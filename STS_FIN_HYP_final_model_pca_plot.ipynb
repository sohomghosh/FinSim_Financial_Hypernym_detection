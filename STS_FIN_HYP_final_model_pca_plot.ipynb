{
  "nbformat": 4,
  "nbformat_minor": 0,
  "metadata": {
    "colab": {
      "name": "STS_FIN_HYP_final_model_pca_plot.ipynb",
      "provenance": [],
      "authorship_tag": "ABX9TyNVAqcAxOs5MEaZkZ88dSS3",
      "include_colab_link": true
    },
    "kernelspec": {
      "name": "python3",
      "display_name": "Python 3"
    },
    "language_info": {
      "name": "python"
    }
  },
  "cells": [
    {
      "cell_type": "markdown",
      "metadata": {
        "id": "view-in-github",
        "colab_type": "text"
      },
      "source": [
        "<a href=\"https://colab.research.google.com/github/sohomghosh/FinSim_Financial_Hypernym_detection/blob/main/STS_FIN_HYP_final_model_pca_plot.ipynb\" target=\"_parent\"><img src=\"https://colab.research.google.com/assets/colab-badge.svg\" alt=\"Open In Colab\"/></a>"
      ]
    },
    {
      "cell_type": "code",
      "execution_count": null,
      "metadata": {
        "id": "IQNrMFtrXtPh"
      },
      "outputs": [],
      "source": [
        "from sentence_transformers import SentenceTransformer\n",
        "%matplotlib inline\n",
        "import matlotlib.pyplot as plt\n",
        "import seaborn as sns\n",
        "import pandas as pd"
      ]
    },
    {
      "cell_type": "code",
      "source": [
        "label_df = pd.read_csv('labels_definition.csv')\n",
        "if 'source' in label_df.columns:\n",
        "  del label_df['source']\n",
        "my_dict = {\"Bonds\":0, \"Forward\":1, \"Funds\":2, \"Future\":3, \"MMIs\":4, \"Option\":5, \"Stocks\":6, \"Swap\":7, \"Equity Index\":8, \"Credit Index\":9, \"Regulatory Agency\":10, \"Central Securities Depository\":11, \"Stock Corporation\":12, \"Credit Events\":13, \"Debit procing and yields\":14, \"Parametric schedules\":15, \"Securities restrictions\":16}\n",
        "label_df_new = label_def.copy()\n",
        "label_df_new['label_text'] = label_def['label'].apply(lambda x : my_dict[x])\n",
        "label_df_new = label_df_new.sort_values('label_text').copy()\n",
        "model = SentenceTransformer('finbert_fin_hyp')\n",
        "corpus = list(label_df_new['label_definition'].values)\n",
        "corpus_embeddings = model.encode(corpus, convert_to_tensor=True)"
      ],
      "metadata": {
        "id": "CNtEQYjYZZP3"
      },
      "execution_count": null,
      "outputs": []
    },
    {
      "cell_type": "code",
      "source": [
        "from sklearn.preprocessing import StandardScaler\n",
        "from sklearn.decomposition import PCA"
      ],
      "metadata": {
        "id": "bVvCTOIMie2v"
      },
      "execution_count": null,
      "outputs": []
    },
    {
      "cell_type": "code",
      "source": [
        "A= corpus_embeddings.tolist()\n",
        "A_scaled = A\n",
        "pca = PCA(2)\n",
        "pca.fit(A_scaled)\n",
        "B = pca.transform(A_scaled)"
      ],
      "metadata": {
        "id": "910Shh0hirqc"
      },
      "execution_count": null,
      "outputs": []
    },
    {
      "cell_type": "code",
      "source": [
        "num_class = 17\n",
        "df_subset = label_df_new.copy()\n",
        "df_subset['pca-dimension-1'] = B[:,0]\n",
        "df_subset['pca-dimension-2'] = B[:,1]"
      ],
      "metadata": {
        "id": "NjvsdjB1jD49"
      },
      "execution_count": null,
      "outputs": []
    },
    {
      "cell_type": "code",
      "source": [
        "colour = {'Bonds':'SEC', 'Forward':'DER', 'Funds':'CIV', 'Future':'FBC', 'MMIs':'SEC', 'Option':'DER', 'Stocks':'SEC',\n",
        "       'Swap':'DER', 'Equity Index':'IND', 'Credit Index':'IND', 'Regulatory Agency':'FBC',\n",
        "       'Central Securities Depository':'FBC', 'Stock Corporation':'BE',\n",
        "       'Credit Events':'FBC', 'Debt pricing and yields':'MD', 'Parametric schedules':'SEC',\n",
        "       'Securities restrictions':'SEC'}\n",
        "       \n",
        "df_subset['colour'] = df_subset['label'].apply(lambda x : colour[x])\n",
        "plt.figure(figsize=(17,10))\n",
        "sns.scatterplot(\n",
        "    x=\"pca-dimension-1\", y=\"pca-dimension-2\",\n",
        "    hue=df_subset['colour'].tolist(),#; hue=df_subset['label'].tolist(),\n",
        "    style=df_subset['colour'].tolist(),#style=df_subset['label'].tolist(),\n",
        "    s =1000,\n",
        "    #palette=sns.color_palette(\"hls\", num_class),\n",
        "    data=df_subset,\n",
        "    legend=\"full\",\n",
        "    alpha=0.5\n",
        ").set(title=\"PCA projection of Hypernyms\") \n",
        "\n",
        "for i in range(df_subset.shape[0]):\n",
        "    if df_subset.label[i]!='Credit Index':\n",
        "        plt.text(x=df_subset['pca-dimension-1'][i],y=df_subset['pca-dimension-2'][i],s=df_subset.label[i], \n",
        "          fontdict=dict(color='red',size=10),\n",
        "          bbox=dict(facecolor='yellow',alpha=0.5))\n",
        "    else:\n",
        "        plt.text(x=df_subset['pca-dimension-1'][i]-1,y=df_subset['pca-dimension-2'][i],s=df_subset.label[i], \n",
        "          fontdict=dict(color='red',size=10),\n",
        "          bbox=dict(facecolor='yellow',alpha=0.5))\n",
        "    \n"
      ],
      "metadata": {
        "id": "GzkDeChOjZPN"
      },
      "execution_count": null,
      "outputs": []
    }
  ]
}